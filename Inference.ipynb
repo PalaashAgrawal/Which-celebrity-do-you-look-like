{
 "cells": [
  {
   "cell_type": "code",
   "execution_count": 1,
   "metadata": {},
   "outputs": [],
   "source": [
    "import os \n",
    "from torch.utils import *\n",
    "from fastai2.vision.widgets import *\n",
    "from fastai2.vision.all import *\n",
    "import matplotlib.pyplot as plt"
   ]
  },
  {
   "cell_type": "code",
   "execution_count": 2,
   "metadata": {},
   "outputs": [],
   "source": [
    "learn=load_learner('export.pkl')\n",
    "upload_button=widgets.FileUpload()\n",
    "btn_run = widgets.Button(description='Find out Now!!')\n",
    "lbl_pred = widgets.Label()\n",
    "out_pl = widgets.Output()"
   ]
  },
  {
   "cell_type": "markdown",
   "metadata": {},
   "source": [
    "   #                 Which Celebrity do you look like? \n",
    "\n",
    "   ###                          Find out by uploading a selfie or a picture!"
   ]
  },
  {
   "cell_type": "code",
   "execution_count": 3,
   "metadata": {},
   "outputs": [],
   "source": [
    "def upload(): \n",
    "    uploaded_img = PILImage.create(upload_button.data[-1])\n",
    "    resize_img=uploaded_img.reshape(256,256)\n",
    "    img_tensor=image2tensor(resize_img)\n",
    "    return uploaded_img,resize_img,img_tensor"
   ]
  },
  {
   "cell_type": "code",
   "execution_count": 4,
   "metadata": {},
   "outputs": [],
   "source": [
    "def find_similar_image(img_tensor,pred):\n",
    "    path=Path('data/data')/pred\n",
    "    mat=[]\n",
    "    for file in os.listdir(path):\n",
    "        if (file=='.ipynb_checkpoints'):\n",
    "            continue\n",
    "        image = PILImage.create(path/file)\n",
    "        image=image.reshape(256,256)\n",
    "        comp_tensor=image2tensor(image)\n",
    "        mat.append(np.sum((img_tensor.numpy()-comp_tensor.numpy())**2))\n",
    "    compare_img=PILImage.create(path/os.listdir(path)[np.argmin(mat)]).reshape(256,256)\n",
    "    return compare_img"
   ]
  },
  {
   "cell_type": "code",
   "execution_count": 5,
   "metadata": {},
   "outputs": [],
   "source": [
    "def get_concat_h(im1, im2):\n",
    "    dst = Image.new('RGB', (im1.width + im2.width, im1.height))\n",
    "    dst.paste(im1, (0, 0))\n",
    "    dst.paste(im2, (im1.width, 0))\n",
    "    return dst"
   ]
  },
  {
   "cell_type": "code",
   "execution_count": 6,
   "metadata": {},
   "outputs": [],
   "source": [
    "def on_click_classify(change):\n",
    "    uploaded_img,resize_img,img_tensor = upload() \n",
    "    out_pl.clear_output()\n",
    "#     with out_pl: display(uploaded_img.to_thumb(256,256))\n",
    "    pred,pred_idx,probs = learn.predict(uploaded_img)\n",
    "    compare_img=find_similar_image(img_tensor,pred)\n",
    "    with out_pl: display(get_concat_h(resize_img,compare_img))\n",
    "    lbl_pred.value = f'You look like: {pred}!' #; Probability: {probs[pred_idx]:.04f}'\n",
    "btn_run.on_click(on_click_classify)"
   ]
  },
  {
   "cell_type": "code",
   "execution_count": 7,
   "metadata": {},
   "outputs": [
    {
     "data": {
      "application/vnd.jupyter.widget-view+json": {
       "model_id": "f303f4a6c4944ea6804f4d762b6c5c09",
       "version_major": 2,
       "version_minor": 0
      },
      "text/plain": [
       "VBox(children=(Label(value=''), FileUpload(value={}, description='Upload'), Button(description='Find out Now!!…"
      ]
     },
     "metadata": {},
     "output_type": "display_data"
    },
    {
     "data": {
      "text/html": [],
      "text/plain": [
       "<IPython.core.display.HTML object>"
      ]
     },
     "metadata": {},
     "output_type": "display_data"
    }
   ],
   "source": [
    "VBox([widgets.Label(''), \n",
    "      upload_button, btn_run, out_pl, lbl_pred])"
   ]
  },
  {
   "cell_type": "code",
   "execution_count": null,
   "metadata": {},
   "outputs": [],
   "source": []
  }
 ],
 "metadata": {
  "kernelspec": {
   "display_name": "Python 3",
   "language": "python",
   "name": "python3"
  },
  "language_info": {
   "codemirror_mode": {
    "name": "ipython",
    "version": 3
   },
   "file_extension": ".py",
   "mimetype": "text/x-python",
   "name": "python",
   "nbconvert_exporter": "python",
   "pygments_lexer": "ipython3",
   "version": "3.7.6"
  }
 },
 "nbformat": 4,
 "nbformat_minor": 4
}
